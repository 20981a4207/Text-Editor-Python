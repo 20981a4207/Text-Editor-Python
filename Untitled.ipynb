{
 "cells": [
  {
   "cell_type": "code",
   "execution_count": 2,
   "id": "02cb6c80",
   "metadata": {},
   "outputs": [],
   "source": [
    "import tkinter as tk\n",
    "from tkinter.filedialog import asksaveasfilename\n",
    "\n",
    "root = tk.Tk()\n",
    "root.geometry('800x600')  # Adjust the window size to 800x600\n",
    "root.title('RAGHUNAD REDDY CHAPPAVARAPU')\n",
    "root.config(bg='sky blue')  # Set background color for the root window\n",
    "\n",
    "# Label for the heading\n",
    "heading = tk.Label(root, text='Text Editor', font=('bold', 24), bg='sky blue')\n",
    "heading.pack(pady=20)\n",
    "\n",
    "# Frame to hold the editor and scrollbar widgets\n",
    "editor_frame = tk.Frame(root, bg='sky blue')\n",
    "editor_frame.pack(fill=tk.BOTH, expand=True)\n",
    "\n",
    "scrollbar = tk.Scrollbar(editor_frame)\n",
    "scrollbar.pack(side=tk.RIGHT, fill=tk.Y)\n",
    "\n",
    "editor = tk.Text(editor_frame, width=600, height=350, yscrollcommand=scrollbar.set, bg='white', font=('normal', 12))  # Adjust the editor size to 600x350 and font size\n",
    "editor.pack(fill=tk.BOTH, expand=True)\n",
    "\n",
    "scrollbar.config(command=editor.yview)\n",
    "\n",
    "def save():\n",
    "    filepath = asksaveasfilename(defaultextension='txt', filetypes=[('Text Files', '*.txt'), ('All Files', '*.*')])\n",
    "    if not filepath:\n",
    "        return\n",
    "    with open(filepath, 'w') as output_file:\n",
    "        text = editor.get(1.0, tk.END)\n",
    "        output_file.write(text)\n",
    "    root.title(f'Entitled - {filepath}')\n",
    "\n",
    "def on_key_release(event):\n",
    "    # Function to be called whenever a key is released in the text editor\n",
    "    text = editor.get(1.0, tk.END)\n",
    "    editor.tag_configure('color_tag', foreground='black')\n",
    "    editor.tag_remove('color_tag', 1.0, tk.END)  # Remove the tag from the entire text\n",
    "    editor.tag_add('color_tag', 1.0, tk.END)  # Apply the tag to the entire text\n",
    "    editor.mark_set('insert', tk.END)  # Move the cursor to the end of the text\n",
    "\n",
    "editor.bind('<KeyRelease>', on_key_release)\n",
    "\n",
    "# Button to save the text\n",
    "button = tk.Button(root, text='Save', font=('normal', 14), command=save, bg='yellow')\n",
    "button.pack(pady=10)\n",
    "\n",
    "# Command to run the main loop\n",
    "root.mainloop()\n",
    "\n"
   ]
  },
  {
   "cell_type": "code",
   "execution_count": null,
   "id": "0dadd8f9",
   "metadata": {},
   "outputs": [],
   "source": []
  }
 ],
 "metadata": {
  "kernelspec": {
   "display_name": "Python 3 (ipykernel)",
   "language": "python",
   "name": "python3"
  },
  "language_info": {
   "codemirror_mode": {
    "name": "ipython",
    "version": 3
   },
   "file_extension": ".py",
   "mimetype": "text/x-python",
   "name": "python",
   "nbconvert_exporter": "python",
   "pygments_lexer": "ipython3",
   "version": "3.9.13"
  }
 },
 "nbformat": 4,
 "nbformat_minor": 5
}
